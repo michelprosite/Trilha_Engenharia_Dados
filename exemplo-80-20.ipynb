{
 "cells": [
  {
   "cell_type": "code",
   "execution_count": 1,
   "metadata": {},
   "outputs": [
    {
     "name": "stdout",
     "output_type": "stream",
     "text": [
      "   produto  vendas  vendas_acumuladas\n",
      "19       T    2000               2000\n",
      "18       S    1900               3900\n"
     ]
    }
   ],
   "source": [
    "import pandas as pd\n",
    "\n",
    "# Cria o DataFrame\n",
    "df_vendas = pd.DataFrame({\n",
    "    'produto': ['A', 'B', 'C', 'D', 'E', 'F', 'G', 'H', 'I', 'J', 'K', 'L', 'M', 'N', 'O', 'P', 'Q', 'R', 'S', 'T'],\n",
    "    'vendas': [100, 200, 300, 400, 500, 600, 700, 800, 900, 1000, 1100, 1200, 1300, 1400, 1500, 1600, 1700, 1800, 1900, 2000]\n",
    "})\n",
    "\n",
    "# Calcula o total de vendas\n",
    "total_vendas = df_vendas['vendas'].sum()\n",
    "\n",
    "# Calcula o valor de 20% das vendas\n",
    "vendas_20_porcento = total_vendas * 0.2\n",
    "\n",
    "# Ordena o DataFrame por vendas\n",
    "df_vendas_ordenado = df_vendas.sort_values('vendas', ascending=False)\n",
    "\n",
    "# Cria uma coluna com as vendas acumuladas\n",
    "df_vendas_ordenado['vendas_acumuladas'] = df_vendas_ordenado['vendas'].cumsum()\n",
    "\n",
    "# Seleciona os 20% dos produtos que geram 80% das vendas\n",
    "df_vendas_80_20 = df_vendas_ordenado[df_vendas_ordenado['vendas_acumuladas'] <= vendas_20_porcento]\n",
    "\n",
    "# Imprime o resultado\n",
    "print(df_vendas_80_20)\n"
   ]
  }
 ],
 "metadata": {
  "kernelspec": {
   "display_name": "Python 3",
   "language": "python",
   "name": "python3"
  },
  "language_info": {
   "codemirror_mode": {
    "name": "ipython",
    "version": 3
   },
   "file_extension": ".py",
   "mimetype": "text/x-python",
   "name": "python",
   "nbconvert_exporter": "python",
   "pygments_lexer": "ipython3",
   "version": "3.10.6"
  },
  "orig_nbformat": 4
 },
 "nbformat": 4,
 "nbformat_minor": 2
}
