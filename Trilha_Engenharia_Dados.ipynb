{
  "nbformat": 4,
  "nbformat_minor": 0,
  "metadata": {
    "colab": {
      "provenance": [],
      "authorship_tag": "ABX9TyOYixaMLtcw+J6gk3vnX3MF",
      "include_colab_link": true
    },
    "kernelspec": {
      "name": "python3",
      "display_name": "Python 3"
    },
    "language_info": {
      "name": "python"
    }
  },
  "cells": [
    {
      "cell_type": "markdown",
      "metadata": {
        "id": "view-in-github",
        "colab_type": "text"
      },
      "source": [
        "<a href=\"https://colab.research.google.com/github/michelprosite/Trilha_Engenharia_Dados/blob/main/Trilha_Engenharia_Dados.ipynb\" target=\"_parent\"><img src=\"https://colab.research.google.com/assets/colab-badge.svg\" alt=\"Open In Colab\"/></a>"
      ]
    },
    {
      "cell_type": "markdown",
      "source": [
        "# ProSIte Evolution\n",
        "## Michel Souza Santana - (Data Engineer)\n",
        "> 29/04/2022 \n",
        "\n",
        "* O propósito desse conteúdo é registrar todos os passos no processo de aprendisado e formação de um engenheiro de dados. \n",
        "\n",
        "* Abaixo segue todo conteúdo teórico e, dentro do possível, prático para o desenvolvimetno de profissional de Engenharia de dados.\n",
        "\n",
        "*************************"
      ],
      "metadata": {
        "id": "JOuBTwpcQ60h"
      }
    },
    {
      "cell_type": "markdown",
      "source": [
        "## Passo 1 - Fundamentos de programação \n",
        "* Comece aprendendo os fundamentos da programação, como variáveis, loops, condicionais, funções, entre outros. Aprenda uma linguagem de programação como Python, Java ou SQL.\n"
      ],
      "metadata": {
        "id": "1-T7u9SPSVoY"
      }
    },
    {
      "cell_type": "markdown",
      "source": [
        "## Passo 2 - Bancos de dados \n",
        "* Aprenda os fundamentos dos bancos de dados relacionais e não relacionais. Aprenda a escrever consultas SQL básicas e avançadas."
      ],
      "metadata": {
        "id": "nC4SPeyFSfIl"
      }
    },
    {
      "cell_type": "markdown",
      "source": [
        "## Passo 3 - Big Data \n",
        "* Aprenda os fundamentos do processamento de Big Data e tecnologias de armazenamento, como Hadoop, Spark e NoSQL."
      ],
      "metadata": {
        "id": "j6U6Tr1OSlB3"
      }
    },
    {
      "cell_type": "markdown",
      "source": [
        "## Passo 4 - Estatística e Análise de Dados\n",
        "* Aprenda conceitos básicos de estatística e análise de dados, como probabilidade, distribuições, regressão, aprendizado de máquina, entre outros."
      ],
      "metadata": {
        "id": "sO3gnRF7SsXV"
      }
    },
    {
      "cell_type": "markdown",
      "source": [
        "Passo 5 - Processamento de dados em tempo real \n",
        "* Aprenda as tecnologias de processamento de dados em tempo real, como Kafka, Flink e Storm."
      ],
      "metadata": {
        "id": "NK941pa8S1N_"
      }
    },
    {
      "cell_type": "markdown",
      "source": [
        "## Passo 6 - Visualização de dados\n",
        "* Aprenda a criar visualizações de dados eficazes usando ferramentas como Tableau, Power BI e D3.js."
      ],
      "metadata": {
        "id": "WAamb08SS6h4"
      }
    },
    {
      "cell_type": "markdown",
      "source": [
        "## Passo 7 - Engenharia de dados\n",
        "* Aprenda a projetar, construir e gerenciar sistemas de armazenamento de dados, incluindo a coleta, processamento e análise de dados."
      ],
      "metadata": {
        "id": "S6qgSIGrTA2V"
      }
    },
    {
      "cell_type": "markdown",
      "source": [
        "## Passo 8 - Gerenciamento de projetos\n",
        "* Aprenda a gerenciar projetos de engenharia de dados, incluindo prazos, orçamentos, colaboração em equipe, entre outros."
      ],
      "metadata": {
        "id": "pgR9okK4THCz"
      }
    },
    {
      "cell_type": "markdown",
      "source": [
        "## Comunicação\n",
        "* Aprenda a se comunicar de forma clara e eficaz com outras pessoas na equipe de dados e com partes interessadas externas."
      ],
      "metadata": {
        "id": "OfoMs-z6TQpt"
      }
    },
    {
      "cell_type": "code",
      "execution_count": null,
      "metadata": {
        "id": "nYmb_bDwQK7g"
      },
      "outputs": [],
      "source": []
    }
  ]
}