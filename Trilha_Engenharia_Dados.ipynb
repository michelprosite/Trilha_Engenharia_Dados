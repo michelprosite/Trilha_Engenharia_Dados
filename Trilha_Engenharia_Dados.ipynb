{
  "nbformat": 4,
  "nbformat_minor": 0,
  "metadata": {
    "colab": {
      "provenance": [],
      "toc_visible": true,
      "authorship_tag": "ABX9TyPEWmZifNp7GMN3Y9yppCL7",
      "include_colab_link": true
    },
    "kernelspec": {
      "name": "python3",
      "display_name": "Python 3"
    },
    "language_info": {
      "name": "python"
    }
  },
  "cells": [
    {
      "cell_type": "markdown",
      "metadata": {
        "id": "view-in-github",
        "colab_type": "text"
      },
      "source": [
        "<a href=\"https://colab.research.google.com/github/michelprosite/Trilha_Engenharia_Dados/blob/main/Trilha_Engenharia_Dados.ipynb\" target=\"_parent\"><img src=\"https://colab.research.google.com/assets/colab-badge.svg\" alt=\"Open In Colab\"/></a>"
      ]
    },
    {
      "cell_type": "markdown",
      "source": [
        "# ProSite Evolution\n",
        "## Michel Souza Santana \n",
        "### Data Engineer / Data Science\n",
        "> 29/04/2023 - Start\n",
        "\n",
        "> 29/04/2023 - Atualizado\n",
        "\n",
        "* O propósito desse conteúdo é registrar todos os passos no processo de aprendisado e formação de um engenheiro de dados. \n",
        "\n",
        "* Abaixo a segue trilha com todo conteúdo teórico e, dentro do possível, prático para o desenvolvimento profissional de Engenharia de dados.\n",
        "\n",
        "*************************"
      ],
      "metadata": {
        "id": "JOuBTwpcQ60h"
      }
    },
    {
      "cell_type": "markdown",
      "source": [
        "# Passo 1 - Paython Para Analise de Dados\n",
        "* Comece aprendendo os fundamentos da programação, como variáveis, loops, condicionais, funções, entre outros. Aprenda uma linguagem de programação como Python, Java ou SQL.\n"
      ],
      "metadata": {
        "id": "1-T7u9SPSVoY"
      }
    },
    {
      "cell_type": "markdown",
      "source": [
        "### A seguir, vou dar exemplos de fundamentos da programação que são comuns a várias linguagens de programação, como variáveis, loops, condicionais e funções:\n",
        "\n",
        "* Variáveis: são utilizadas para armazenar valores que podem ser usados posteriormente no código. Por exemplo, em Python, podemos definir uma variável da seguinte forma:\n",
        "\n",
        "`idade = 25`\n",
        "\n",
        "* Loops: permitem repetir um bloco de código várias vezes. Existem dois tipos de loops: o loop \"for\", que itera sobre uma sequência de valores, e o loop \"while\", que repete enquanto uma determinada condição é verdadeira. Aqui está um exemplo de um loop \"for\" em Python:\n",
        "\n",
        "`for i in range(10):`\n",
        "\n",
        "  `print(i)`\n",
        "\n",
        "\n",
        "* Condicionais: são usados para tomar decisões no código com base em valores lógicos. Por exemplo, em Python, podemos usar o \"if\" para verificar se uma condição é verdadeira e executar um bloco de código correspondente. Aqui está um exemplo:\n",
        "\n",
        "`if idade >= 18:`\n",
        "\n",
        "    print(\"Você é maior de idade\")\n",
        "\n",
        "`else:`\n",
        "\n",
        "    print(\"Você é menor de idade\")\n",
        "\n",
        "* Funções: são blocos de código que podem ser reutilizados várias vezes no programa. Em Python, podemos definir uma função da seguinte forma:\n",
        "\n",
        "`def soma(a, b):`\n",
        "\n",
        "    return a + b\n",
        "\n",
        "* Além desses fundamentos, é importante escolher uma linguagem de programação para aprender. Python, Java e SQL são ótimas opções, mas a escolha dependerá do objetivo do aprendizado e da área de atuação. Por exemplo, Python é uma linguagem popular para análise de dados e inteligência artificial, enquanto Java é frequentemente usada para desenvolvimento de aplicativos e sistemas corporativos. Já o SQL é usado para consultas e manipulação de bancos de dados. \n",
        "\n",
        "* É importante selecionar a linguagem adequada para o objetivo específico de aprendizado. \n",
        "\n",
        "* Aqui, faremos uso da linguagem python por nos atender em todos os requisitos almejados e ter um curva de aprendizado muito significativa."
      ],
      "metadata": {
        "id": "j8ami3-0x-Ir"
      }
    },
    {
      "cell_type": "markdown",
      "source": [
        "## Cap.1: Básico da linguagem Python, IPyton e notebook jupyter"
      ],
      "metadata": {
        "id": "plChjG76s9Ay"
      }
    },
    {
      "cell_type": "markdown",
      "source": [
        "### Interpretador Python\n"
      ],
      "metadata": {
        "id": "F4dU6reptR3W"
      }
    },
    {
      "cell_type": "markdown",
      "source": [
        "### Básico sobre IPython"
      ],
      "metadata": {
        "id": "dE2_i7PvtfL7"
      }
    },
    {
      "cell_type": "markdown",
      "source": [
        "#### Executando o Shell IPython"
      ],
      "metadata": {
        "id": "MljyVRqotv3B"
      }
    },
    {
      "cell_type": "markdown",
      "source": [
        "#### Executando o Notenook Jupyter"
      ],
      "metadata": {
        "id": "29w6LdBmt2VK"
      }
    },
    {
      "cell_type": "markdown",
      "source": [
        "#### Preeenchimento automático com tabulação"
      ],
      "metadata": {
        "id": "tdne-hOpt8Ww"
      }
    },
    {
      "cell_type": "markdown",
      "source": [
        "#### Introspecção"
      ],
      "metadata": {
        "id": "_2MKGL--uC0D"
      }
    },
    {
      "cell_type": "markdown",
      "source": [
        "#### Comando %run"
      ],
      "metadata": {
        "id": "K8BfsST6uLNc"
      }
    },
    {
      "cell_type": "markdown",
      "source": [
        "#### Executando código de área de trânsferência"
      ],
      "metadata": {
        "id": "LQWs3cYZuOgz"
      }
    },
    {
      "cell_type": "markdown",
      "source": [
        "#### Atalhos de teclado no terminal"
      ],
      "metadata": {
        "id": "4Onn4N-iuVXu"
      }
    },
    {
      "cell_type": "markdown",
      "source": [
        "#### Sobre os comandos mágicos"
      ],
      "metadata": {
        "id": "y60SiCDuuc_F"
      }
    },
    {
      "cell_type": "markdown",
      "source": [
        "#### Integração com a matplotlib"
      ],
      "metadata": {
        "id": "Ew381fj6u1y_"
      }
    },
    {
      "cell_type": "markdown",
      "source": [
        "### Básico da linguagem Python"
      ],
      "metadata": {
        "id": "52CMO5yltocQ"
      }
    },
    {
      "cell_type": "markdown",
      "source": [
        "#### Semântica da linguagem"
      ],
      "metadata": {
        "id": "Dbmwa5hhvOS0"
      }
    },
    {
      "cell_type": "markdown",
      "source": [
        "#### Tipos escalares"
      ],
      "metadata": {
        "id": "NB4vg7Z-vT16"
      }
    },
    {
      "cell_type": "markdown",
      "source": [
        "#### Controle de fluxo"
      ],
      "metadata": {
        "id": "5uvkE9NnvW_F"
      }
    },
    {
      "cell_type": "markdown",
      "source": [
        "## Cap.2: Estruturas de dados embutidas, funções e arquivos"
      ],
      "metadata": {
        "id": "CnADoy5Uxytn"
      }
    },
    {
      "cell_type": "markdown",
      "source": [
        "### Estruturas de dados e sequência\n"
      ],
      "metadata": {
        "id": "2IFFzyiKx7G7"
      }
    },
    {
      "cell_type": "markdown",
      "source": [
        "#### Tupla"
      ],
      "metadata": {
        "id": "BgpnySJQyFlS"
      }
    },
    {
      "cell_type": "markdown",
      "source": [
        "#### Lista"
      ],
      "metadata": {
        "id": "F2QV3679yHqD"
      }
    },
    {
      "cell_type": "markdown",
      "source": [
        "#### Funções embutidas para sequências"
      ],
      "metadata": {
        "id": "ySj1-l3UyMO-"
      }
    },
    {
      "cell_type": "markdown",
      "source": [
        "####List, set e dict cpmprehensions"
      ],
      "metadata": {
        "id": "0REmTFlIyTNH"
      }
    },
    {
      "cell_type": "markdown",
      "source": [
        "### Funções"
      ],
      "metadata": {
        "id": "DEpwHjCnye9p"
      }
    },
    {
      "cell_type": "markdown",
      "source": [
        "#### Namespaces, escopo e funções locais"
      ],
      "metadata": {
        "id": "QVzjm3E3yhoz"
      }
    },
    {
      "cell_type": "markdown",
      "source": [
        "#### Devolvendo diversos valores"
      ],
      "metadata": {
        "id": "mvh9pKkIyn4A"
      }
    },
    {
      "cell_type": "markdown",
      "source": [
        "#### Funções são objetos"
      ],
      "metadata": {
        "id": "n9IS3QJqytbq"
      }
    },
    {
      "cell_type": "markdown",
      "source": [
        "#### Funções anônimas (lambdas)"
      ],
      "metadata": {
        "id": "JitMJ9WByyIq"
      }
    },
    {
      "cell_type": "markdown",
      "source": [
        "#### Currying: aplicação parcial dos argumentos"
      ],
      "metadata": {
        "id": "WJekhzHAy2Q_"
      }
    },
    {
      "cell_type": "markdown",
      "source": [
        "#### Geradores"
      ],
      "metadata": {
        "id": "c1HY5YyAzGQP"
      }
    },
    {
      "cell_type": "markdown",
      "source": [
        "#### Erros e tratamento de exceção"
      ],
      "metadata": {
        "id": "qykWqGtdzIH4"
      }
    },
    {
      "cell_type": "markdown",
      "source": [
        "## Cap.3: Básico Sobre o Numpy: arrays e processamento vetorizado"
      ],
      "metadata": {
        "id": "91D4fVhVzSBA"
      }
    },
    {
      "cell_type": "markdown",
      "source": [
        "## Cap.4: Introdução ao pandas"
      ],
      "metadata": {
        "id": "YvWBS1FAzcCf"
      }
    },
    {
      "cell_type": "markdown",
      "source": [
        "## Cap.5: Carga de dados, armazenamento e formas de arquivos"
      ],
      "metadata": {
        "id": "NQA2kdfwzgev"
      }
    },
    {
      "cell_type": "markdown",
      "source": [
        "## Cap.6: Limpeza e preparação dos dados"
      ],
      "metadata": {
        "id": "F7xyYFJizoXB"
      }
    },
    {
      "cell_type": "markdown",
      "source": [
        "## Cap.7: Tratamento de dados: junção, combinação e reformataÇÃO"
      ],
      "metadata": {
        "id": "ikAcXKlJzwEa"
      }
    },
    {
      "cell_type": "markdown",
      "source": [
        "## Cap.8: Plotagem e visualização"
      ],
      "metadata": {
        "id": "bwwVn4gf0BIt"
      }
    },
    {
      "cell_type": "markdown",
      "source": [
        "## Cap.9: Agregação de dados e operações em grupos"
      ],
      "metadata": {
        "id": "XoumTanh0Ldg"
      }
    },
    {
      "cell_type": "markdown",
      "source": [
        "## Cap.10: Séries temporais"
      ],
      "metadata": {
        "id": "z761C8Se0Tm8"
      }
    },
    {
      "cell_type": "markdown",
      "source": [
        "## Cap.11: Pandas avançado"
      ],
      "metadata": {
        "id": "8URLgmxK0YTf"
      }
    },
    {
      "cell_type": "markdown",
      "source": [
        "## Cap.12: Introdução às bibliotecas de modelagem em Python"
      ],
      "metadata": {
        "id": "Tj5YyLH70mZa"
      }
    },
    {
      "cell_type": "markdown",
      "source": [
        "## Cap.13: Exemplos de análise de dados"
      ],
      "metadata": {
        "id": "ndOUekSi0uVs"
      }
    },
    {
      "cell_type": "markdown",
      "source": [
        "## Cap.14: Numpy Avançado"
      ],
      "metadata": {
        "id": "B8Dablk700yk"
      }
    },
    {
      "cell_type": "markdown",
      "source": [
        "## Cap.15: Mais sobre o sistema IPython"
      ],
      "metadata": {
        "id": "OE85b7zq05f3"
      }
    },
    {
      "cell_type": "markdown",
      "source": [
        "# Passo 2 - Bancos de dados \n",
        "* Aprenda os fundamentos dos bancos de dados relacionais e não relacionais. Aprenda a escrever consultas SQL básicas e avançadas."
      ],
      "metadata": {
        "id": "nC4SPeyFSfIl"
      }
    },
    {
      "cell_type": "markdown",
      "source": [
        "\n",
        "### Semana 1:\n",
        "* Introdução a bancos de dados: conceitos básicos, história dos bancos de dados, tipos de bancos de dados e aplicações.\n",
        "* Modelagem de dados: modelagem conceitual, modelagem lógica e modelagem física.\n",
        "\n",
        "### Semana 2:\n",
        "* Linguagem SQL: sintaxe básica, criação e manipulação de tabelas, inserção, atualização e exclusão de dados.\n",
        "* Consultas: seleção de dados, ordenação de resultados, junção de tabelas e subconsultas.\n",
        "\n",
        "### Semana 3:\n",
        "* Restrições de integridade: chaves primárias, chaves estrangeiras, índices e gatilhos.\n",
        "* Normalização: conceitos básicos, formas normais e aplicação prática.\n",
        "\n",
        "### Semana 4:\n",
        "* Bancos de dados relacionais: teoria relacional, álgebra relacional e cálculo relacional.\n",
        "* Bancos de dados não relacionais: tipos de bancos de dados não relacionais, vantagens e desvantagens.\n",
        "\n",
        "### Semana 5:\n",
        "* Modelos de banco de dados: modelo hierárquico, modelo em rede, modelo relacional e modelo orientado a objetos.\n",
        "* Administração de bancos de dados: segurança, backup e recuperação de dados, tuning e monitoramento.\n",
        "\n",
        "### Semana 6:\n",
        "* Desenvolvimento de projetos: análise de requisitos, modelagem de dados, programação, testes e documentação.\n",
        "* Aplicação prática: desenvolvimento de um pequeno projeto usando os conceitos aprendidos durante o curso."
      ],
      "metadata": {
        "id": "wxtaInhkUncC"
      }
    },
    {
      "cell_type": "markdown",
      "source": [
        "# Passo 3 - Big Data \n",
        "* Aprenda os fundamentos do processamento de Big Data e tecnologias de armazenamento, como Hadoop, Spark e NoSQL."
      ],
      "metadata": {
        "id": "j6U6Tr1OSlB3"
      }
    },
    {
      "cell_type": "markdown",
      "source": [
        "Semana 1:\n",
        "\n",
        "Introdução ao Big Data: conceitos básicos, histórico, desafios e oportunidades.\n",
        "Tecnologias de Big Data: Hadoop, Spark, NoSQL, entre outras.\n",
        "Semana 2:\n",
        "\n",
        "Armazenamento de Big Data: sistemas de arquivos distribuídos, HDFS, S3, entre outros.\n",
        "Processamento de Big Data: MapReduce, Spark, YARN, entre outros.\n",
        "Semana 3:\n",
        "\n",
        "Análise de Big Data: tipos de análise, algoritmos de aprendizado de máquina, visualização de dados, entre outros.\n",
        "Big Data na prática: ferramentas de análise de dados como o Tableau, Power BI, entre outros.\n",
        "Semana 4:\n",
        "\n",
        "Escalabilidade e disponibilidade: arquiteturas escaláveis, replicação de dados, balanceamento de carga, entre outros.\n",
        "Segurança e privacidade: desafios de segurança em Big Data, criptografia, políticas de privacidade, entre outros.\n",
        "Semana 5:\n",
        "\n",
        "Computação em nuvem: conceitos básicos, modelos de serviço, provedores de nuvem, entre outros.\n",
        "Arquitetura de Big Data: arquiteturas de referência, casos de uso, desafios e oportunidades.\n",
        "Semana 6:\n",
        "\n",
        "Desenvolvimento de projetos: análise de requisitos, modelagem de dados, programação, testes e documentação.\n",
        "Aplicação prática: desenvolvimento de um pequeno projeto usando as ferramentas e tecnologias aprendidas durante o curso."
      ],
      "metadata": {
        "id": "EhhO15zxUz1u"
      }
    },
    {
      "cell_type": "markdown",
      "source": [
        "# Passo 4 - Estatística e Análise de Dados\n",
        "* Aprenda conceitos básicos de estatística e análise de dados, como probabilidade, distribuições, regressão, aprendizado de máquina, entre outros."
      ],
      "metadata": {
        "id": "sO3gnRF7SsXV"
      }
    },
    {
      "cell_type": "markdown",
      "source": [
        "Semana 1:\n",
        "\n",
        "Introdução à Estatística: conceitos básicos, medidas de centralidade, dispersão e assimetria, tipos de dados e gráficos estatísticos.\n",
        "Probabilidade: conceitos básicos, distribuições de probabilidade, teorema de Bayes.\n",
        "Semana 2:\n",
        "\n",
        "Amostragem: técnicas de amostragem, amostras aleatórias simples e estratificadas, tamanho de amostra e margem de erro.\n",
        "Estimação: intervalos de confiança, estimadores pontuais, teorema do limite central.\n",
        "Semana 3:\n",
        "\n",
        "Testes de hipóteses: conceitos básicos, tipos de erro, testes t, z e qui-quadrado, análise de variância (ANOVA).\n",
        "Regressão linear simples: modelo de regressão, estimadores de mínimos quadrados, análise de resíduos.\n",
        "Semana 4:\n",
        "\n",
        "Regressão linear múltipla: modelo de regressão múltipla, estimadores de mínimos quadrados, análise de resíduos, multicolinearidade.\n",
        "Análise de dados: técnicas de pré-processamento de dados, análise exploratória de dados, visualização de dados, clustering, entre outros.\n",
        "Semana 5:\n",
        "\n",
        "Inferência bayesiana: conceitos básicos, distribuições a priori e a posteriori, cálculo de probabilidades, análise de sensibilidade.\n",
        "Modelos de séries temporais: tendência, sazonalidade, ciclos, modelos ARIMA.\n",
        "Semana 6:\n",
        "\n",
        "Aplicação prática: desenvolvimento de um projeto usando as ferramentas e técnicas aprendidas durante o curso.\n",
        "Revisão e aprofundamento: revisão dos principais conceitos, prática com exercícios e exemplos, e aprofundamento em temas específicos de interesse.\n"
      ],
      "metadata": {
        "id": "ZoTUr45UVCSf"
      }
    },
    {
      "cell_type": "markdown",
      "source": [
        "# Passo 5 - Processamento de dados em tempo real \n",
        "* Aprenda as tecnologias de processamento de dados em tempo real, como Kafka, Flink e Storm."
      ],
      "metadata": {
        "id": "NK941pa8S1N_"
      }
    },
    {
      "cell_type": "markdown",
      "source": [
        "Semana 1:\n",
        "\n",
        "Introdução ao processamento de dados em tempo real: conceitos básicos, aplicações e arquiteturas.\n",
        "Fundamentos de streaming de dados: protocolos, sistemas de mensagens, APIs de streaming.\n",
        "Semana 2:\n",
        "\n",
        "Apache Kafka: arquitetura, tópicos, partições, produtores e consumidores, gerenciamento de cluster.\n",
        "Integração de Kafka com outras ferramentas de processamento de dados em tempo real.\n",
        "Semana 3:\n",
        "\n",
        "Apache Flink: modelo de programação, fluxo de dados, janelamento, agregação, processamento de dados em tempo real distribuído.\n",
        "Integração de Flink com outras ferramentas de processamento de dados em tempo real.\n",
        "Semana 4:\n",
        "\n",
        "Apache Spark Streaming: modelo de programação, microbatches, janelamento, agregação, processamento de dados em tempo real em larga escala.\n",
        "Integração de Spark Streaming com outras ferramentas de processamento de dados em tempo real.\n",
        "Semana 5:\n",
        "\n",
        "Ferramentas e técnicas de monitoramento e gerenciamento de dados em tempo real: métricas, logs, alertas, balanceamento de carga, resiliência.\n",
        "Aplicação prática: desenvolvimento de um projeto usando as ferramentas e técnicas aprendidas durante o curso.\n",
        "Semana 6:\n",
        "\n",
        "Revisão e aprofundamento: revisão dos principais conceitos, prática com exercícios e exemplos, e aprofundamento em temas específicos de interesse."
      ],
      "metadata": {
        "id": "GygTTkfXVUcF"
      }
    },
    {
      "cell_type": "markdown",
      "source": [
        "# Passo 6 - Visualização de dados\n",
        "* Aprenda a criar visualizações de dados eficazes usando ferramentas como Tableau, Power BI e D3.js."
      ],
      "metadata": {
        "id": "WAamb08SS6h4"
      }
    },
    {
      "cell_type": "markdown",
      "source": [
        "Semana 1:\n",
        "\n",
        "Introdução à visualização de dados: conceitos básicos, tipos de gráficos e ferramentas de visualização.\n",
        "Fundamentos de design gráfico: cores, tipografia, layout e hierarquia visual.\n",
        "Semana 2:\n",
        "\n",
        "Técnicas de visualização de dados: gráficos de barra, gráficos de linha, gráficos de dispersão, gráficos de área e histogramas.\n",
        "Boas práticas de visualização: simplificação, clareza, foco, contexto e interatividade.\n",
        "Semana 3:\n",
        "\n",
        "Visualização de dados para grandes conjuntos de dados: gráficos de bolhas, mapas de calor, treemaps, redes e diagramas de fluxo.\n",
        "Ferramentas de visualização de dados: Tableau, Power BI, Google Data Studio, D3.js.\n",
        "Semana 4:\n",
        "\n",
        "Visualização de dados para análise exploratória: filtros, seleções, ferramentas de drill-down e drill-up.\n",
        "Visualização de dados para apresentação: narrativa, história, apresentação ao vivo e storytelling.\n",
        "Semana 5:\n",
        "\n",
        "Visualização de dados para diferentes tipos de dados: dados temporais, dados geográficos, dados hierárquicos e dados relacionais.\n",
        "Boas práticas de comunicação: clareza, concisão, adequação ao público-alvo e ética na visualização de dados.\n",
        "Semana 6:\n",
        "\n",
        "Revisão e aprofundamento: revisão dos principais conceitos, prática com exercícios e exemplos, e aprofundamento em temas específicos de interesse."
      ],
      "metadata": {
        "id": "SINU0Z6ZVnFk"
      }
    },
    {
      "cell_type": "markdown",
      "source": [
        "# Passo 7 - Engenharia de dados\n",
        "* Aprenda a projetar, construir e gerenciar sistemas de armazenamento de dados, incluindo a coleta, processamento e análise de dados."
      ],
      "metadata": {
        "id": "S6qgSIGrTA2V"
      }
    },
    {
      "cell_type": "markdown",
      "source": [
        "Semana 1:\n",
        "\n",
        "Introdução à Engenharia de Dados: conceitos básicos, definições e modelos de dados.\n",
        "Arquitetura de dados: tipos de sistemas de gerenciamento de dados, data warehousing e data lakes.\n",
        "Semana 2:\n",
        "\n",
        "ETL: extração, transformação e carga de dados: conceitos, ferramentas e melhores práticas.\n",
        "Noções básicas de programação: Python, SQL, shell scripting.\n",
        "Semana 3:\n",
        "\n",
        "Fundamentos de Bancos de Dados Relacionais: modelo relacional, álgebra relacional, SQL básico.\n",
        "Fundamentos de Bancos de Dados Não-Relacionais: tipos de bancos de dados NoSQL, conceitos básicos, exemplos.\n",
        "Semana 4:\n",
        "\n",
        "Hadoop e Ecossistema de Big Data: HDFS, MapReduce, YARN, HBase, Hive, Spark, etc.\n",
        "Cloud Computing e Big Data: arquitetura de referência, Amazon Web Services (AWS), Microsoft Azure, Google Cloud Platform (GCP).\n",
        "Semana 5:\n",
        "\n",
        "Streaming de dados: conceitos básicos, Apache Kafka, Amazon Kinesis, Spark Streaming.\n",
        "Integração de dados: APIs, Web Services, ETL em tempo real.\n",
        "Semana 6:\n",
        "\n",
        "Revisão e aprofundamento: revisão dos principais conceitos, prática com exercícios e exemplos, e aprofundamento em temas específicos de interesse."
      ],
      "metadata": {
        "id": "XUMaQ10RVy94"
      }
    },
    {
      "cell_type": "markdown",
      "source": [
        "# Passo 8 - Gerenciamento de projetos\n",
        "* Aprenda a gerenciar projetos de engenharia de dados, incluindo prazos, orçamentos, colaboração em equipe, entre outros."
      ],
      "metadata": {
        "id": "pgR9okK4THCz"
      }
    },
    {
      "cell_type": "markdown",
      "source": [
        "Semana 1:\n",
        "\n",
        "Introdução ao Gerenciamento de Projetos: conceitos básicos, processos, áreas de conhecimento e papéis envolvidos.\n",
        "Ciclo de vida do projeto: fases do projeto, modelo cascata, modelo ágil.\n",
        "Semana 2:\n",
        "\n",
        "Planejamento do Projeto: escopo, cronograma, orçamento, recursos, riscos, qualidade e comunicação.\n",
        "Métodos de estimativa de tempo e custo: Análise PERT, Método de 3 pontos, EAP, Diagrama de Gantt.\n",
        "Semana 3:\n",
        "\n",
        "Execução e Monitoramento do Projeto: gerenciamento de mudanças, gerenciamento de riscos, gerenciamento de qualidade, gestão de stakeholders.\n",
        "Ferramentas de colaboração: Microsoft Teams, Asana, Trello, JIRA.\n",
        "Semana 4:\n",
        "\n",
        "Encerramento do Projeto: entrega de resultados, avaliação de desempenho, lições aprendidas.\n",
        "Certificações em Gerenciamento de Projetos: PMI, PRINCE2, SCRUM.\n",
        "Semana 5:\n",
        "\n",
        "Revisão e aprofundamento: revisão dos principais conceitos, prática com exercícios e exemplos, e aprofundamento em temas específicos de interesse.\n",
        "Metodologias ágeis: Scrum, Kanban, Lean.\n",
        "Semana 6:\n",
        "\n",
        "Gestão de Portfólio e Programas de Projetos: conceitos básicos, processos, melhores práticas.\n",
        "Gerenciamento de Projetos em ambientes de TI: desenvolvimento de software, infraestrutura de TI."
      ],
      "metadata": {
        "id": "C9URD5jlWB3J"
      }
    },
    {
      "cell_type": "markdown",
      "source": [
        "# Passo 9 - Comunicação\n",
        "* Aprenda a se comunicar de forma clara e eficaz com outras pessoas na equipe de dados e com partes interessadas externas."
      ],
      "metadata": {
        "id": "OfoMs-z6TQpt"
      }
    },
    {
      "cell_type": "markdown",
      "source": [
        "Semana 1:\n",
        "\n",
        "Introdução à Comunicação: conceitos básicos, tipos de comunicação, canais de comunicação, comunicação verbal e não verbal.\n",
        "Comunicação eficaz: como planejar e organizar a comunicação, como garantir que a mensagem seja entendida.\n",
        "Semana 2:\n",
        "\n",
        "Técnicas de Apresentação: planejamento, estruturação, elaboração de slides, prática de apresentações, técnicas para lidar com nervosismo.\n",
        "Comunicação Interpessoal: técnicas de escuta ativa, feedback construtivo, resolução de conflitos, negociação.\n",
        "Semana 3:\n",
        "\n",
        "Comunicação Escrita: estruturação de textos, escrita clara e objetiva, gramática e ortografia.\n",
        "Comunicação em Equipe: dinâmicas de grupo, colaboração, comunicação horizontal e vertical.\n",
        "Semana 4:\n",
        "\n",
        "Comunicação em Público: técnicas de fala, dicção, expressão corporal, postura e tom de voz.\n",
        "Comunicação Digital: e-mail, chat, videoconferência, redes sociais.\n",
        "Semana 5:\n",
        "\n",
        "Comunicação Empresarial: comunicação interna, comunicação externa, relações públicas.\n",
        "Comunicação em Projetos: comunicação entre as partes interessadas, gerenciamento de conflitos.\n",
        "Semana 6:\n",
        "\n",
        "Revisão e aprofundamento: revisão dos principais conceitos, prática com exercícios e exemplos, e aprofundamento em temas específicos de interesse.\n",
        "Comunicação em Liderança: comunicação de missão e visão, delegação de tarefas, comunicação de feedback."
      ],
      "metadata": {
        "id": "l0UKWqllWbAx"
      }
    },
    {
      "cell_type": "markdown",
      "source": [
        "***************************"
      ],
      "metadata": {
        "id": "JXJHJE6mjYZx"
      }
    },
    {
      "cell_type": "markdown",
      "source": [
        "# Certificações\n"
      ],
      "metadata": {
        "id": "z54TRw4mXnH8"
      }
    },
    {
      "cell_type": "markdown",
      "source": [
        "## Google Computing Plataform \n",
        "### Associate Cloud Engineer:\n",
        "* Familiarize-se com os conceitos básicos do Google Cloud Platform, incluindo a * arquitetura da plataforma, serviços básicos de computação, armazenamento e rede.\n",
        "* Aprenda a criar e gerenciar máquinas virtuais no Google Compute Engine.\n",
        "* Aprenda a gerenciar redes virtuais e segurança no Google Cloud Platform.\n",
        "* Aprenda a usar serviços de armazenamento como Cloud Storage e Cloud SQL.\n",
        "* Estude para o exame e pratique com testes práticos.\n",
        "\n",
        "### Professional Cloud Architect:\n",
        "* Aprenda a projetar e planejar soluções escaláveis e seguras no Google Cloud Platform.\n",
        "* Aprenda a implementar e gerenciar serviços de infraestrutura no Google Cloud Platform.\n",
        "* Aprenda a implementar e gerenciar soluções de rede no Google Cloud Platform.\n",
        "* Aprenda a implementar e gerenciar serviços de armazenamento no Google Cloud Platform.\n",
        "* Aprenda a usar ferramentas de gerenciamento e monitoramento, como Stackdriver e Deployment Manager.\n",
        "* Estude para o exame e pratique com testes práticos.\n",
        "\n",
        "### Professional Cloud Data Engineer:\n",
        "* Aprenda a projetar, construir e gerenciar soluções de processamento de dados no Google Cloud Platform.\n",
        "* Aprenda a usar ferramentas como BigQuery, Cloud Dataflow e Cloud Dataproc para processamento de dados.\n",
        "* Aprenda a implementar soluções de machine learning no Google Cloud Platform.\n",
        "* Aprenda a gerenciar e monitorar soluções de processamento de dados usando ferramentas como Stackdriver e Cloud Logging.\n",
        "* Estude para o exame e pratique com testes práticos.\n",
        "\n",
        "### Professional Cloud Developer:\n",
        "* Aprenda a projetar, desenvolver e gerenciar aplicativos no Google Cloud Platform.\n",
        "* Aprenda a usar ferramentas como Google Kubernetes Engine e Google App Engine para gerenciamento de aplicativos.\n",
        "* Aprenda a integrar serviços como Cloud Pub/Sub e Cloud Functions em seus aplicativos.\n",
        "* Aprenda a gerenciar e monitorar aplicativos usando ferramentas como Stackdriver e Cloud Trace.\n",
        "* Estude para o exame e pratique com testes práticos.\n",
        "\n",
        "### Professional Cloud Network Engineer:\n",
        "* Aprenda a projetar, implementar e gerenciar soluções de rede no Google Cloud Platform.\n",
        "* Aprenda a usar ferramentas como Cloud VPN e Cloud Interconnect para conexão de redes.\n",
        "* Aprenda a implementar soluções de segurança de rede, como firewalls e políticas de segurança de rede.\n",
        "* Aprenda a usar ferramentas de gerenciamento de rede como Stackdriver e Network Intelligence Center.\n",
        "* Estude para o exame e pratique com testes práticos.\n",
        "\n",
        "### Professional Cloud Security Engineer:\n",
        "* Aprenda a projetar e implementar soluções de segurança no Google Cloud Platform.\n",
        "* Aprenda a gerenciar identidade e acesso no Google Cloud Platform usando ferramentas como Cloud IAM.\n",
        "* Aprenda a gerenciar chaves e segurança de dados usando ferramentas como Cloud Key Management Service.\n",
        "* Aprenda a gerenciar conformidade com padrões de segurança e regulamentações usando ferramentas como Compliance Manager.\n",
        "* Estude para o exame e pratique com testes práticos"
      ],
      "metadata": {
        "id": "irlkW7y4Xpqa"
      }
    },
    {
      "cell_type": "markdown",
      "source": [
        "********************"
      ],
      "metadata": {
        "id": "JbS8jmB1jbKb"
      }
    },
    {
      "cell_type": "markdown",
      "source": [
        "## Se você decidiu se preparar para a certificação Associate Cloud Engineer (GCP), aqui estão alguns passos que você pode seguir:\n",
        "\n",
        "* Verifique os requisitos e o escopo da prova: Antes de iniciar o seu estudo, verifique os requisitos da prova, como as habilidades e experiências necessárias para se candidatar à certificação. Além disso, verifique o escopo da prova, que inclui os tópicos que serão abordados na avaliação.\n",
        "\n",
        "* Estude o material oficial da Google Cloud: A Google oferece diversos materiais para ajudar na preparação para a prova, como guias de estudo, documentações técnicas, tutoriais e vídeos. Acesse o site oficial da Google Cloud e comece a estudar esses materiais.\n",
        "\n",
        "* Faça um curso oficial da Google Cloud: Além do material gratuito, a Google também oferece cursos pagos, ministrados por instrutores certificados, que podem ajudar na preparação para a certificação. Esses cursos oferecem uma experiência mais aprofundada e interativa do que o material gratuito.\n",
        "\n",
        "* Pratique com laboratórios: A Google Cloud oferece uma plataforma de laboratório prático, que permite que você experimente e teste seus conhecimentos na prática. Use essa plataforma para aprimorar suas habilidades práticas.\n",
        "\n",
        "* Use simulados de prova: Depois de estudar e praticar, é importante testar seus conhecimentos com simulados de prova. Eles ajudarão você a se familiarizar com o formato da prova e a identificar quais áreas precisam de mais atenção.\n",
        "\n",
        "* Agende a prova: Após se preparar, agende sua prova no site da Google Cloud. Certifique-se de que atende a todos os requisitos para se candidatar à certificação e de que está confiante em seus conhecimentos.\n",
        "\n"
      ],
      "metadata": {
        "id": "qWK2vrgca1e_"
      }
    },
    {
      "cell_type": "markdown",
      "source": [
        "**************************\n"
      ],
      "metadata": {
        "id": "Jfs0TRgijdaJ"
      }
    },
    {
      "cell_type": "markdown",
      "source": [
        "## Segue abaixo uma trilha de estudo eficaz para a certificação Associate Cloud Engineer da Google Cloud Platform:\n",
        "\n",
        "### Conheça os fundamentos da GCP:\n",
        "\n",
        "* Entenda o que é a GCP e sua arquitetura básica.\n",
        "Saiba como criar e gerenciar projetos e contas de usuários na plataforma.\n",
        "Conheça os principais serviços da GCP, como Compute Engine, App Engine, Storage e Big Data.\n",
        "\n",
        "### Estude os conceitos de redes e segurança na GCP:\n",
        "* Entenda os conceitos básicos de redes, como sub-redes, protocolos, DNS e VPNs.\n",
        "Aprenda a configurar o firewall da GCP e outras medidas de segurança.\n",
        "\n",
        "### Aprenda a trabalhar com máquinas virtuais:\n",
        "* Conheça os tipos de instâncias de VM disponíveis e seus usos.\n",
        "Aprenda a criar e configurar instâncias, discos e imagens.\n",
        "Saiba como escalar as VMs e configurar balanceamento de carga.\n",
        "\n",
        "### Estude os serviços de armazenamento e banco de dados da GCP:\n",
        "* Aprenda a usar o Google Cloud Storage e Cloud SQL para armazenar dados na nuvem.\n",
        "Entenda como configurar o Google Cloud Bigtable e o Google Cloud Datastore.\n",
        "\n",
        "### Aprenda a gerenciar serviços na GCP:\n",
        "* Entenda como criar e gerenciar projetos e contas de usuários na plataforma.\n",
        "Saiba como usar o Google Cloud Deployment Manager e o Google Cloud Console para gerenciar recursos na GCP.\n",
        "\n",
        "### Aprenda a trabalhar com o Google Kubernetes Engine:\n",
        "* Entenda o que é o Google Kubernetes Engine (GKE) e como ele funciona.\n",
        "Saiba como implantar aplicativos em clusters do GKE.\n",
        "* Conheça os conceitos básicos de escalabilidade, balanceamento de carga e resiliência em clusters do GKE.\n",
        "\n",
        "### Pratique seus conhecimentos:\n",
        "* Realize exercícios e práticas em ambientes simulados da GCP.\n",
        "* Realize exercícios de laboratório para aprimorar suas habilidades práticas.\n",
        "\n",
        "### Faça a certificação Associate Cloud Engineer:\n",
        "*Agende a prova e prepare-se para o exame.\n",
        "* Tenha uma visão geral dos tópicos a serem cobertos no exame.\n",
        "* Pratique resolvendo questões de prova de exames anteriores.\n",
        "* Lembre-se de que a prática é fundamental para obter sucesso na certificação. * Dedique tempo para estudar e pratique em ambientes simulados para desenvolver habilidades práticas. Além disso, é importante estar sempre atualizado com as novidades e atualizações da GCP."
      ],
      "metadata": {
        "id": "3YW8tROhZP5A"
      }
    },
    {
      "cell_type": "markdown",
      "source": [
        "## Fontes para estudo\n",
        "\n",
        "### Existem diversas opções de onde estudar para a certificação Associate Cloud Engineer da Google Cloud Platform (GCP). Algumas sugestões incluem:\n",
        "\n",
        "* Documentação da GCP: A documentação oficial da GCP é uma fonte importante de informação para o exame de certificação. Acesse o site da GCP e consulte a documentação relevante para a sua preparação.\n",
        "\n",
        "* Qwiklabs: A Qwiklabs oferece uma variedade de laboratórios práticos para a GCP, permitindo que você pratique as habilidades que precisa para passar na certificação. Eles oferecem uma opção gratuita de 30 dias para novos usuários.\n",
        "\n",
        "* Coursera: O Coursera tem uma série de cursos on-line gratuitos e pagos sobre a GCP. Eles também oferecem programas de certificação específicos para a GCP.\n",
        "\n",
        "* Udemy: A Udemy possui diversos cursos on-line sobre a GCP, incluindo cursos específicos para a preparação para a certificação Associate Cloud Engineer.\n",
        "\n",
        "* Google Cloud Training: A Google Cloud Training oferece uma variedade de recursos de treinamento, incluindo aulas ao vivo, cursos on-line e programas de certificação."
      ],
      "metadata": {
        "id": "8eUyKfnpmEIb"
      }
    }
  ]
}