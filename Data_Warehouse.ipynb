{
  "nbformat": 4,
  "nbformat_minor": 0,
  "metadata": {
    "colab": {
      "provenance": [],
      "authorship_tag": "ABX9TyMxki3cyh39NWrhn0NZn71+",
      "include_colab_link": true
    },
    "kernelspec": {
      "name": "python3",
      "display_name": "Python 3"
    },
    "language_info": {
      "name": "python"
    }
  },
  "cells": [
    {
      "cell_type": "markdown",
      "metadata": {
        "id": "view-in-github",
        "colab_type": "text"
      },
      "source": [
        "<a href=\"https://colab.research.google.com/github/michelprosite/Trilha_Engenharia_Dados/blob/main/Data_Warehouse.ipynb\" target=\"_parent\"><img src=\"https://colab.research.google.com/assets/colab-badge.svg\" alt=\"Open In Colab\"/></a>"
      ]
    },
    {
      "cell_type": "markdown",
      "source": [
        "# Data WareHuse\n",
        "## Michel Souza Santana"
      ],
      "metadata": {
        "id": "_vracvTcWfgj"
      }
    },
    {
      "cell_type": "markdown",
      "source": [
        "Um data warehouse, em português \"armazém de dados\", é um sistema utilizado para armazenar e gerenciar grandes volumes de dados de diferentes fontes, de modo a facilitar a análise e a tomada de decisões estratégicas por parte de uma organização. É uma estrutura centralizada que integra informações de várias fontes de dados, como bancos de dados transacionais, planilhas, sistemas de gerenciamento de relacionamento com o cliente (CRM) e outros sistemas.\n",
        "\n",
        "O objetivo principal de um data warehouse é permitir que os usuários finais, como gerentes, analistas e executivos, possam acessar e analisar dados de maneira eficiente. Os dados são organizados em um formato otimizado para consultas e análises, permitindo que os usuários obtenham insights valiosos e tomem decisões embasadas em informações confiáveis.\n",
        "\n",
        "As principais características de um data warehouse incluem:\n",
        "\n",
        "Integração de dados: Os dados de diferentes fontes são integrados em um único local, eliminando inconsistências e redundâncias.\n",
        "\n",
        "Armazenamento orientado por assunto: Os dados são organizados em torno de temas ou assuntos relevantes para a organização, facilitando a análise e o acesso.\n",
        "\n",
        "Estrutura dimensional: Os dados são modelados usando uma estrutura dimensional, como o modelo estrela ou o modelo floco de neve, que permite a fácil navegação e agregação dos dados.\n",
        "\n",
        "Desempenho otimizado: O data warehouse é projetado para fornecer consultas rápidas e eficientes, mesmo em grandes volumes de dados.\n",
        "\n",
        "Histórico de dados: O data warehouse geralmente mantém um histórico de dados, permitindo a análise de tendências ao longo do tempo.\n",
        "\n",
        "Separado do ambiente operacional: O data warehouse é uma estrutura separada do ambiente operacional da organização, evitando interferências e impactos na performance dos sistemas transacionais.\n",
        "\n",
        "Ao utilizar um data warehouse, as organizações podem obter uma visão holística de seus dados, identificar padrões, realizar análises avançadas e gerar relatórios para embasar a tomada de decisões estratégicas. Isso pode resultar em melhorias na eficiência operacional, identificação de oportunidades de negócios, compreensão do comportamento do cliente, entre outros benefícios."
      ],
      "metadata": {
        "id": "1Von1RB7Wmca"
      }
    },
    {
      "cell_type": "code",
      "execution_count": null,
      "metadata": {
        "id": "G6UkSCBIWdhf"
      },
      "outputs": [],
      "source": []
    }
  ]
}